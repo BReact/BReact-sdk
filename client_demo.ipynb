{
 "cells": [
  {
   "cell_type": "markdown",
   "metadata": {},
   "source": [
    "# BReact SDK Demo\n",
    "\n",
    "This notebook demonstrates how to use the BReact SDK to interact with various services.\n",
    "\n",
    "## Table of Contents\n",
    "1. [Client Initialization](#Client-Initialization)\n",
    "2. [Text Summarization Example](#Text-Summarization-Example)\n",
    "3. [Email Generator Example](#Email-Generator-Example)\n",
    "4. [Information Tracker](#Information-Tracker)\n",
    "5. [Using Generic Services](#Using-Generic-Services)\n",
    "6. [Cleanup](#Cleanup)\n"
   ]
  },
  {
   "cell_type": "code",
   "execution_count": 2,
   "metadata": {},
   "outputs": [
    {
     "name": "stderr",
     "output_type": "stream",
     "text": [
      "2025-02-03 12:06:34,928 - breact_sdk - INFO - Creating new BReactClient instance...\n",
      "2025-02-03 12:06:34,929 - breact_sdk - INFO - Initializing BReactClient...\n",
      "2025-02-03 12:06:34,929 - breact_sdk - INFO - Initializing HTTP client with base URL: http://localhost:8000\n",
      "2025-02-03 12:06:34,929 - breact_sdk.http - INFO - Initializing HTTP client for http://localhost:8000\n",
      "2025-02-03 12:06:35,097 - breact_sdk.http - INFO - HTTP client initialized successfully\n",
      "2025-02-03 12:06:35,097 - breact_sdk - INFO - BReactClient base initialization completed\n",
      "2025-02-03 12:06:35,098 - breact_sdk - INFO - Initializing services...\n",
      "2025-02-03 12:06:35,098 - breact_sdk - INFO - Fetching available services from API...\n",
      "2025-02-03 12:06:35,099 - breact_sdk.http - INFO - Making GET request to /api/v1/services\n",
      "2025-02-03 12:06:35,411 - breact_sdk - INFO - Found 11 services\n",
      "2025-02-03 12:06:35,412 - breact_sdk - INFO - BReactClient initialization completed successfully\n"
     ]
    }
   ],
   "source": [
    "# Now import and use the client\n",
    "from breact_sdk import BReactClient\n",
    "\n",
    "# Initialize client\n",
    "client = await BReactClient.create(\n",
    "    api_key=<apikey>\n",
    ")"
   ]
  },
  {
   "cell_type": "markdown",
   "metadata": {},
   "source": [
    "## Text Summarization Example – Summarizing a Sample Text\n",
    "\n",
    "In this section, we use the BReact SDK to generate a concise summary of a sample text. The parameters such as `summary_type`, `model_id`, and `options` control the summarization behavior."
   ]
  },
  {
   "cell_type": "code",
   "execution_count": 4,
   "metadata": {},
   "outputs": [
    {
     "name": "stderr",
     "output_type": "stream",
     "text": [
      "2025-02-03 12:06:35,429 - breact_sdk - INFO - Summarizing text...\n",
      "2025-02-03 12:06:35,430 - breact_sdk.http - INFO - Executing POST request to /api/v1/services/aisummary/summarize with polling\n",
      "2025-02-03 12:06:35,431 - breact_sdk.http - INFO - Making POST request to /api/v1/services/aisummary/summarize\n",
      "2025-02-03 12:06:35,466 - breact_sdk.http - INFO - Making GET request to /api/v1/services/result/20\n",
      "2025-02-03 12:06:36,495 - breact_sdk.http - INFO - Making GET request to /api/v1/services/result/20\n",
      "2025-02-03 12:06:37,554 - breact_sdk.http - INFO - Making GET request to /api/v1/services/result/20\n"
     ]
    },
    {
     "name": "stdout",
     "output_type": "stream",
     "text": [
      "Summary:\n",
      "status='success' result=None error=None summary='Artificial Intelligence (AI) has significantly impacted numerous sectors, including healthcare and finance, through the use of machine learning algorithms that analyze large data sets to discern patterns and make predictions. Notable AI advancements include Natural Language Processing, allowing computers to understand and produce human-like text, and Computer Vision systems, which accurately recognize objects and faces. These developments have enhanced automation and decision-making processes.' metadata={'model': 'mistral-small', 'created_at': '2025-02-03T12:06:36.679146', 'original_length': 60, 'summary_length': 63, 'processing_time': '2025-02-03T12:06:36.679146', 'instance_id': 2621007212880, 'usage': {'prompt_tokens': 183, 'total_tokens': 267, 'completion_tokens': 84}}\n"
     ]
    }
   ],
   "source": [
    "sample_text = \"\"\"\n",
    "Artificial Intelligence (AI) has transformed various industries, from healthcare to finance.\n",
    "Machine learning algorithms can now process vast amounts of data to identify patterns and make predictions.\n",
    "Natural Language Processing has enabled computers to understand and generate human-like text.\n",
    "Computer Vision systems can recognize objects and faces with remarkable accuracy.\n",
    "These advancements have led to improved automation and decision-making capabilities.\n",
    "\"\"\"\n",
    "\n",
    "result = await client.ai_summarize(\n",
    "    text=sample_text,\n",
    "    summary_type=\"brief\",\n",
    "    model_id=\"mistral-small\",\n",
    "    options={\n",
    "        \"temperature\": 0.3,\n",
    "        \"max_tokens\": 500\n",
    "    }\n",
    ")\n",
    "\n",
    "if result.status == \"completed\" and result.result:\n",
    "    print(\"Summary:\")\n",
    "    print(result.result)\n",
    "else:\n",
    "    print(f\"Error: {result.error or 'Unknown error'}\")"
   ]
  },
  {
   "cell_type": "markdown",
   "metadata": {},
   "source": [
    "## Email Generator Example – Analyzing and Responding to an Email Thread\n",
    "\n",
    "This section demonstrates how to analyze an email thread for sentiment, key points, action items, and response urgency. Based on the analysis, a professional email response is generated using the BReact SDK."
   ]
  },
  {
   "cell_type": "code",
   "execution_count": 6,
   "metadata": {},
   "outputs": [
    {
     "name": "stderr",
     "output_type": "stream",
     "text": [
      "2025-02-03 12:06:37,603 - breact_sdk - INFO - Analyzing email thread...\n",
      "2025-02-03 12:06:37,604 - breact_sdk.http - INFO - Executing POST request to /api/v1/services/email_response/analyze_thread with polling\n",
      "2025-02-03 12:06:37,604 - breact_sdk.http - INFO - Making POST request to /api/v1/services/email_response/analyze_thread\n",
      "2025-02-03 12:06:37,638 - breact_sdk.http - INFO - Making GET request to /api/v1/services/result/21\n",
      "2025-02-03 12:06:38,883 - breact_sdk.http - INFO - Making GET request to /api/v1/services/result/21\n",
      "2025-02-03 12:06:39,938 - breact_sdk.http - INFO - Making GET request to /api/v1/services/result/21\n",
      "2025-02-03 12:06:40,987 - breact_sdk.http - INFO - Making GET request to /api/v1/services/result/21\n",
      "2025-02-03 12:06:41,035 - breact_sdk - INFO - Generating email response...\n",
      "2025-02-03 12:06:41,036 - breact_sdk.http - INFO - Executing POST request to /api/v1/services/email_response/generate_response with polling\n",
      "2025-02-03 12:06:41,036 - breact_sdk.http - INFO - Making POST request to /api/v1/services/email_response/generate_response\n",
      "2025-02-03 12:06:41,066 - breact_sdk.http - INFO - Making GET request to /api/v1/services/result/22\n"
     ]
    },
    {
     "name": "stdout",
     "output_type": "stream",
     "text": [
      "Thread Analysis Results:\n",
      "\n",
      "Sentiment: neutral\n",
      "\n",
      "Main Points Discussed:\n",
      "- Project timeline question\n",
      "- Concern about delay in database implementation phase\n",
      "- Request for update on completion of database implementation phase\n",
      "- Potential impact of delay on final delivery date\n",
      "\n",
      "Action Items:\n",
      "- Provide update on database implementation phase timeline (Urgency: high)\n",
      "- Evaluate impact of delay on final delivery date (Urgency: high)\n",
      "\n",
      "Response Urgency: high\n"
     ]
    },
    {
     "name": "stderr",
     "output_type": "stream",
     "text": [
      "2025-02-03 12:06:42,097 - breact_sdk.http - INFO - Making GET request to /api/v1/services/result/22\n",
      "2025-02-03 12:06:43,154 - breact_sdk.http - INFO - Making GET request to /api/v1/services/result/22\n",
      "2025-02-03 12:06:44,210 - breact_sdk.http - INFO - Making GET request to /api/v1/services/result/22\n",
      "2025-02-03 12:06:45,261 - breact_sdk.http - INFO - Making GET request to /api/v1/services/result/22\n"
     ]
    },
    {
     "name": "stdout",
     "output_type": "stream",
     "text": [
      "\n",
      "Generated Response:\n",
      "Subject: Re: Project Timeline Question\n",
      "\n",
      "Content:\n",
      "{\n",
      "  \"subject\": \"Response to Project Timeline Question\",\n",
      "  \"content\": \"Dear John,\\n\\nI hope this message finds you well. I appreciate your concern regarding the project timeline.\\n\\nAt this stage, our team is working diligently to complete the database implementation phase. We anticipate that this work will be finalized by 2024-03-27T10:00:00Z, which is a slight delay from our initial projections.\\n\\nI regret any inconvenience this may cause. However, I want to assure you that we are committed to delivering high-quality work and will make every effort to minimize any potential impact on the overall project timeline.\\n\\nOnce the database implementation is complete, we will promptly proceed to the next phases of the project to ensure we meet the final delivery date. We will keep you updated on our progress and notify you of any changes.\\n\\nThank you for your understanding and patience.\\n\\nBest regards,\\n[Your Name]\",\n",
      "  \"tone\": \"formal\",\n",
      "  \"key_points_addressed\": [\n",
      "    \"address timeline concerns\",\n",
      "    \"explain database implementation status\",\n",
      "    \"discuss impact on final delivery\"\n",
      "  ]\n",
      "}\n",
      "\n",
      "Best regards,\n",
      "Support Team\n"
     ]
    }
   ],
   "source": [
    "# First, let's analyze the email thread\n",
    "analysis_result = await client.analyze_email_thread(\n",
    "    email_thread=[{\n",
    "        \"sender\": \"client@example.com\",\n",
    "        \"recipient\": \"support@company.com\",\n",
    "        \"subject\": \"Project Timeline Question\",\n",
    "        \"content\": \"\"\"\n",
    "        Hi Support Team,\n",
    "        \n",
    "        I'm wondering about the timeline for our current project. We seem to be running behind\n",
    "        schedule on the database implementation phase. Could you provide an update on when\n",
    "        we can expect this to be completed?\n",
    "        \n",
    "        Also, will this delay affect our final delivery date?\n",
    "        \n",
    "        Thanks,\n",
    "        John\n",
    "        \"\"\",\n",
    "        \"timestamp\": \"2024-03-20T10:00:00Z\"\n",
    "    }],\n",
    "    analysis_type=[\"sentiment\", \"key_points\", \"action_items\", \"response_urgency\"],\n",
    "    model_id=\"mistral-small\"\n",
    ")\n",
    "\n",
    "if analysis_result.status == \"completed\" and analysis_result.result:\n",
    "    analysis = analysis_result.result.analysis  # Get the analysis dictionary\n",
    "    print(\"Thread Analysis Results:\")\n",
    "    print(f\"\\nSentiment: {analysis['overall_sentiment']}\")\n",
    "    print(\"\\nMain Points Discussed:\")\n",
    "    for point in analysis['main_points_discussed']:\n",
    "        print(f\"- {point}\")\n",
    "    print(\"\\nAction Items:\")\n",
    "    for item in analysis['action_items']:\n",
    "        print(f\"- {item['task']} (Urgency: {item['urgency']})\")\n",
    "    print(f\"\\nResponse Urgency: {analysis['response_urgency']}\")\n",
    "\n",
    "    # Now generate a response based on the analysis\n",
    "    response_result = await client.generate_email_response(\n",
    "        email_thread=[{\n",
    "            \"sender\": \"client@example.com\",\n",
    "            \"recipient\": \"support@company.com\",\n",
    "            \"subject\": \"Project Timeline Question\",\n",
    "            \"content\": \"\"\"\n",
    "            Hi Support Team,\n",
    "            \n",
    "            I'm wondering about the timeline for our current project. We seem to be running behind\n",
    "            schedule on the database implementation phase. Could you provide an update on when\n",
    "            we can expect this to be completed?\n",
    "            \n",
    "            Also, will this delay affect our final delivery date?\n",
    "            \n",
    "            Thanks,\n",
    "            John\n",
    "            \"\"\",\n",
    "            \"timestamp\": \"2024-03-20T10:00:00Z\"\n",
    "        }],\n",
    "        tone=\"professional\",\n",
    "        style_guide={\n",
    "            \"language\": \"en\",\n",
    "            \"max_length\": 200,\n",
    "            \"signature\": \"Best regards,\\nSupport Team\",\n",
    "            \"greeting_style\": \"formal\"\n",
    "        },\n",
    "        key_points=[\n",
    "            \"Address timeline concerns\",\n",
    "            \"Explain database implementation status\",\n",
    "            \"Discuss impact on final delivery\"\n",
    "        ],\n",
    "        model_id=\"mistral-small\",\n",
    "        options={\n",
    "            \"temperature\": 0.3,\n",
    "            \"max_tokens\": 1000\n",
    "        }\n",
    "    )\n",
    "    \n",
    "    if response_result.status == \"completed\" and response_result.result:\n",
    "        response = response_result.result.response  # Get the response dictionary\n",
    "        print(\"\\nGenerated Response:\")\n",
    "        print(f\"Subject: {response['subject']}\")\n",
    "        print(\"\\nContent:\")\n",
    "        print(response['content'])\n",
    "        \n",
    "        if response['suggestions']:\n",
    "            print(\"\\nAlternative Suggestions:\")\n",
    "            for suggestion in response['suggestions']:\n",
    "                print(f\"- {suggestion}\")\n",
    "    else:\n",
    "        print(f\"\\nError generating response: {response_result.error or 'Unknown error'}\")\n",
    "else:\n",
    "    print(f\"\\nError analyzing thread: {analysis_result.error or 'Unknown error'}\")"
   ]
  },
  {
   "cell_type": "markdown",
   "metadata": {},
   "source": [
    "## Information Tracker – Extracting Structured Information from Unstructured Text\n",
    "\n",
    "Here we provide a JSON schema to extract structured medical information from a free-text note. The `extract_information` method uses the schema and additional context (`current_info`) to produce a structured analysis."
   ]
  },
  {
   "cell_type": "code",
   "execution_count": 8,
   "metadata": {},
   "outputs": [
    {
     "name": "stderr",
     "output_type": "stream",
     "text": [
      "2025-02-03 12:06:45,323 - breact_sdk.http - INFO - Executing POST request to /api/v1/services/information_tracker/extract_information with polling\n",
      "2025-02-03 12:06:45,324 - breact_sdk.http - INFO - Making POST request to /api/v1/services/information_tracker/extract_information\n",
      "2025-02-03 12:06:45,358 - breact_sdk.http - INFO - Making GET request to /api/v1/services/result/23\n",
      "2025-02-03 12:06:46,537 - breact_sdk.http - INFO - Making GET request to /api/v1/services/result/23\n",
      "2025-02-03 12:06:47,593 - breact_sdk.http - INFO - Making GET request to /api/v1/services/result/23\n"
     ]
    },
    {
     "name": "stdout",
     "output_type": "stream",
     "text": [
      "Analysis Results:\n",
      "\n",
      "Primary Symptom: headache\n",
      "Duration: 3 days\n",
      "Pain Level: 8/10\n",
      "\n",
      "Associated Symptoms:\n",
      "- nausea\n",
      "\n",
      "Aggravating Factors:\n",
      "- physical activity\n",
      "\n",
      "Family History:\n",
      "Present: True\n",
      "Details: mother had similar symptoms\n"
     ]
    }
   ],
   "source": [
    "# Example of using the Information Tracker service\n",
    "medical_note = \"\"\"\n",
    "Patient reports severe headache lasting for 3 days, accompanied by nausea and sensitivity to light. \n",
    "Pain level is described as 8/10. Symptoms worsen with physical activity. \n",
    "No prior history of migraines, but family history shows mother had similar symptoms.\n",
    "\"\"\"\n",
    "\n",
    "# Define the schema for medical symptom extraction\n",
    "schema = {\n",
    "    \"type\": \"object\",\n",
    "    \"properties\": {\n",
    "        \"primary_symptom\": {\n",
    "            \"type\": \"string\",\n",
    "            \"enum\": [\"headache\", \"nausea\", \"dizziness\", \"fatigue\", \"pain\"]\n",
    "        },\n",
    "        \"duration\": {\n",
    "            \"type\": \"string\"\n",
    "        },\n",
    "        \"pain_level\": {\n",
    "            \"type\": \"string\"\n",
    "        },\n",
    "        \"associated_symptoms\": {\n",
    "            \"type\": \"array\",\n",
    "            \"items\": {\n",
    "                \"type\": \"string\"\n",
    "            }\n",
    "        },\n",
    "        \"aggravating_factors\": {\n",
    "            \"type\": \"array\",\n",
    "            \"items\": {\n",
    "                \"type\": \"string\"\n",
    "            }\n",
    "        },\n",
    "        \"family_history\": {\n",
    "            \"type\": \"object\",\n",
    "            \"properties\": {\n",
    "                \"present\": {\n",
    "                    \"type\": \"boolean\"\n",
    "                },\n",
    "                \"details\": {\n",
    "                    \"type\": \"string\"\n",
    "                }\n",
    "            },\n",
    "            \"required\": [\"present\"]\n",
    "        }\n",
    "    },\n",
    "    \"required\": [\"primary_symptom\", \"duration\", \"pain_level\"]\n",
    "}\n",
    "\n",
    "# Extract information using the new method\n",
    "result = await client.extract_information(\n",
    "    text=medical_note,\n",
    "    schema=schema,\n",
    "    update_type=\"medical_symptoms\",\n",
    "    current_info={\n",
    "        \"previous_symptoms\": [\"mild headache\"]\n",
    "    }\n",
    ")\n",
    "\n",
    "if result.status == \"completed\":\n",
    "    if result.result.status == \"error\":\n",
    "        print(f\"Error extracting information: {result.result.error}\")\n",
    "    else:\n",
    "        print(\"Analysis Results:\")\n",
    "        analysis = result.result.result\n",
    "        \n",
    "        print(f\"\\nPrimary Symptom: {analysis['primary_symptom']}\")\n",
    "        print(f\"Duration: {analysis['duration']}\")\n",
    "        print(f\"Pain Level: {analysis['pain_level']}\")\n",
    "        \n",
    "        if 'associated_symptoms' in analysis:\n",
    "            print(\"\\nAssociated Symptoms:\")\n",
    "            for symptom in analysis['associated_symptoms']:\n",
    "                print(f\"- {symptom}\")\n",
    "        \n",
    "        if 'aggravating_factors' in analysis:\n",
    "            print(\"\\nAggravating Factors:\")\n",
    "            for factor in analysis['aggravating_factors']:\n",
    "                print(f\"- {factor}\")\n",
    "        \n",
    "        if 'family_history' in analysis:\n",
    "            print(\"\\nFamily History:\")\n",
    "            print(f\"Present: {analysis['family_history']['present']}\")\n",
    "            if 'details' in analysis['family_history']:\n",
    "                print(f\"Details: {analysis['family_history']['details']}\")\n",
    "else:\n",
    "    print(f\"Error: {result.error or 'Unknown error'}\")"
   ]
  },
  {
   "cell_type": "markdown",
   "metadata": {},
   "source": [
    "## Using Generic Services – Invoking Custom Service Endpoints\n",
    "\n",
    "This section demonstrates how to call any available service endpoint using the `execute_service` method. This method allows flexibility to interact with services that may not have dedicated SDK implementations."
   ]
  },
  {
   "cell_type": "code",
   "execution_count": 10,
   "metadata": {},
   "outputs": [
    {
     "name": "stderr",
     "output_type": "stream",
     "text": [
      "2025-02-03 12:06:47,654 - breact_sdk.http - INFO - Executing POST request to /api/v1/services/webscraper/scrape with polling\n",
      "2025-02-03 12:06:47,655 - breact_sdk.http - INFO - Making POST request to /api/v1/services/webscraper/scrape\n",
      "2025-02-03 12:06:47,832 - breact_sdk.http - INFO - Making GET request to /api/v1/services/result/24\n",
      "2025-02-03 12:06:48,875 - breact_sdk.http - INFO - Making GET request to /api/v1/services/result/24\n",
      "2025-02-03 12:06:51,298 - breact_sdk.http - INFO - Making GET request to /api/v1/services/result/24\n"
     ]
    },
    {
     "name": "stdout",
     "output_type": "stream",
     "text": [
      "Status: completed\n",
      "\n",
      "Result:\n",
      "status='completed' result=ServiceResult(status='success', result={'main_article_content': 'This domain is for use in illustrative examples in documents. You may use this domain in literature without prior coordination or asking for permission.'}, error=None, metadata={'url': 'https://example.com', 'created_at': '2025-02-03T12:06:47.832664', 'processing_time': 2.396634, 'model': 'gpt-4o'}) error=None message=None service='webscraper' endpoint='scrape' created_at=datetime.datetime(2025, 2, 3, 12, 6, 47, 820856) process_info=None\n"
     ]
    }
   ],
   "source": [
    "# Test webscraper service using the correct endpoint name\n",
    "result = await client.execute_service(\n",
    "    service_id=\"webscraper\",\n",
    "    endpoint=\"scrape\",  # Changed from scrape_with_llm to scrape\n",
    "    params={\n",
    "        \"url\": \"https://example.com\",\n",
    "        \"extraction_description\": \"Extract the main article content\",\n",
    "        \"model_id\": \"gpt-4o\",  # optional\n",
    "        \"options\": {  # optional\n",
    "            \"wait_until\": \"networkidle\",\n",
    "            \"timeout\": 30,\n",
    "            \"text_mode\": True\n",
    "        }\n",
    "    }\n",
    ")\n",
    "\n",
    "print(f\"Status: {result.status if hasattr(result, 'status') else 'N/A'}\")\n",
    "print(\"\\nResult:\")\n",
    "print(result)"
   ]
  },
  {
   "cell_type": "markdown",
   "metadata": {},
   "source": [
    "## Cleanup – Closing the Client\n",
    "\n",
    "It is important to close the client after use to free up resources and properly terminate connections."
   ]
  },
  {
   "cell_type": "code",
   "execution_count": 12,
   "metadata": {},
   "outputs": [
    {
     "name": "stderr",
     "output_type": "stream",
     "text": [
      "2025-02-03 12:06:51,349 - breact_sdk - INFO - Closing client and cleaning up resources...\n",
      "2025-02-03 12:06:51,349 - breact_sdk.http - INFO - Closing HTTP client\n",
      "2025-02-03 12:06:51,350 - breact_sdk - INFO - Client closed successfully\n"
     ]
    },
    {
     "name": "stdout",
     "output_type": "stream",
     "text": [
      "Client closed successfully!\n"
     ]
    }
   ],
   "source": [
    "await client.close()\n",
    "print(\"Client closed successfully!\")"
   ]
  }
 ],
 "metadata": {
  "kernelspec": {
   "display_name": "Python 3 (ipykernel)",
   "language": "python",
   "name": "python3"
  },
  "language_info": {
   "codemirror_mode": {
    "name": "ipython",
    "version": 3
   },
   "file_extension": ".py",
   "mimetype": "text/x-python",
   "name": "python",
   "nbconvert_exporter": "python",
   "pygments_lexer": "ipython3",
   "version": "3.11.7"
  }
 },
 "nbformat": 4,
 "nbformat_minor": 4
}
