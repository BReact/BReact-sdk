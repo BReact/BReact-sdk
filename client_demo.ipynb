{
 "cells": [
  {
   "cell_type": "markdown",
   "metadata": {},
   "source": [
    "# BReact SDK Demo\n",
    "\n",
    "This notebook demonstrates how to use the BReact SDK to interact with various services.\n",
    "\n",
    "## Table of Contents\n",
    "1. [Client Initialization](#Client-Initialization)\n",
    "2. [Text Summarization Example](#Text-Summarization-Example)\n",
    "3. [Email Generator Example](#Email-Generator-Example)\n",
    "4. [Information Tracker](#Information-Tracker)\n",
    "5. [Using Generic Services](#Using-Generic-Services)\n",
    "6. [Cleanup](#Cleanup)\n"
   ]
  },
  {
   "cell_type": "code",
   "execution_count": 7,
   "metadata": {},
   "outputs": [
    {
     "name": "stderr",
     "output_type": "stream",
     "text": [
      "2025-02-03 12:02:56,311 - breact_sdk - INFO - Creating new BReactClient instance...\n",
      "2025-02-03 12:02:56,311 - breact_sdk - INFO - Initializing BReactClient...\n",
      "2025-02-03 12:02:56,312 - breact_sdk - ERROR - No API key provided\n"
     ]
    },
    {
     "ename": "ValueError",
     "evalue": "API key must be provided either through BREACT_API_KEY environment variable or api_key parameter",
     "output_type": "error",
     "traceback": [
      "\u001b[1;31m---------------------------------------------------------------------------\u001b[0m",
      "\u001b[1;31mValueError\u001b[0m                                Traceback (most recent call last)",
      "Cell \u001b[1;32mIn[7], line 5\u001b[0m\n\u001b[0;32m      2\u001b[0m \u001b[38;5;28;01mfrom\u001b[39;00m \u001b[38;5;21;01mbreact_sdk\u001b[39;00m \u001b[38;5;28;01mimport\u001b[39;00m BReactClient\n\u001b[0;32m      4\u001b[0m \u001b[38;5;66;03m# Initialize client\u001b[39;00m\n\u001b[1;32m----> 5\u001b[0m client \u001b[38;5;241m=\u001b[39m \u001b[38;5;28;01mawait\u001b[39;00m BReactClient\u001b[38;5;241m.\u001b[39mcreate(\n\u001b[0;32m      6\u001b[0m )\n",
      "File \u001b[1;32m~\\BreactDev\\os_sdk\\breact_sdk\\sdk\\client.py:78\u001b[0m, in \u001b[0;36mBReactClient.create\u001b[1;34m(cls, base_url, api_key, request_timeout, poll_interval, poll_timeout)\u001b[0m\n\u001b[0;32m     76\u001b[0m \u001b[38;5;250m\u001b[39m\u001b[38;5;124;03m\"\"\"Factory method to create and initialize a client instance\"\"\"\u001b[39;00m\n\u001b[0;32m     77\u001b[0m logger\u001b[38;5;241m.\u001b[39minfo(\u001b[38;5;124m\"\u001b[39m\u001b[38;5;124mCreating new BReactClient instance...\u001b[39m\u001b[38;5;124m\"\u001b[39m)\n\u001b[1;32m---> 78\u001b[0m client \u001b[38;5;241m=\u001b[39m \u001b[38;5;28mcls\u001b[39m(base_url, api_key, request_timeout, poll_interval, poll_timeout)\n\u001b[0;32m     79\u001b[0m logger\u001b[38;5;241m.\u001b[39minfo(\u001b[38;5;124m\"\u001b[39m\u001b[38;5;124mInitializing services...\u001b[39m\u001b[38;5;124m\"\u001b[39m)\n\u001b[0;32m     80\u001b[0m \u001b[38;5;28;01mawait\u001b[39;00m client\u001b[38;5;241m.\u001b[39m_initialize_services()\n",
      "File \u001b[1;32m~\\BreactDev\\os_sdk\\breact_sdk\\sdk\\client.py:42\u001b[0m, in \u001b[0;36mBReactClient.__init__\u001b[1;34m(self, base_url, api_key, request_timeout, poll_interval, poll_timeout)\u001b[0m\n\u001b[0;32m     40\u001b[0m \u001b[38;5;28;01mif\u001b[39;00m \u001b[38;5;129;01mnot\u001b[39;00m \u001b[38;5;28mself\u001b[39m\u001b[38;5;241m.\u001b[39mapi_key:\n\u001b[0;32m     41\u001b[0m     logger\u001b[38;5;241m.\u001b[39merror(\u001b[38;5;124m\"\u001b[39m\u001b[38;5;124mNo API key provided\u001b[39m\u001b[38;5;124m\"\u001b[39m)\n\u001b[1;32m---> 42\u001b[0m     \u001b[38;5;28;01mraise\u001b[39;00m \u001b[38;5;167;01mValueError\u001b[39;00m(\u001b[38;5;124m\"\u001b[39m\u001b[38;5;124mAPI key must be provided either through BREACT_API_KEY environment variable or api_key parameter\u001b[39m\u001b[38;5;124m\"\u001b[39m)\n\u001b[0;32m     44\u001b[0m \u001b[38;5;28mself\u001b[39m\u001b[38;5;241m.\u001b[39mbase_url \u001b[38;5;241m=\u001b[39m base_url\n\u001b[0;32m     45\u001b[0m \u001b[38;5;28mself\u001b[39m\u001b[38;5;241m.\u001b[39m_request_timeout \u001b[38;5;241m=\u001b[39m request_timeout\n",
      "\u001b[1;31mValueError\u001b[0m: API key must be provided either through BREACT_API_KEY environment variable or api_key parameter"
     ]
    }
   ],
   "source": [
    "# Now import and use the client\n",
    "from breact_sdk import BReactClient\n",
    "\n",
    "# Initialize client\n",
    "client = await BReactClient.create(\n",
    "    api_key=\"00e0040a-02a9-4970-84f7-56f68b2b8046\"\n",
    ")"
   ]
  },
  {
   "cell_type": "markdown",
   "metadata": {},
   "source": [
    "## Text Summarization Example – Summarizing a Sample Text\n",
    "\n",
    "In this section, we use the BReact SDK to generate a concise summary of a sample text. The parameters such as `summary_type`, `model_id`, and `options` control the summarization behavior."
   ]
  },
  {
   "cell_type": "code",
   "execution_count": 4,
   "metadata": {},
   "outputs": [
    {
     "name": "stderr",
     "output_type": "stream",
     "text": [
      "2025-02-03 11:52:47,475 - breact_sdk - INFO - Summarizing text...\n",
      "2025-02-03 11:52:47,476 - breact_sdk.http - INFO - Executing POST request to /api/v1/services/aisummary/summarize with polling\n",
      "2025-02-03 11:52:47,476 - breact_sdk.http - INFO - Making POST request to /api/v1/services/aisummary/summarize\n",
      "2025-02-03 11:52:47,510 - breact_sdk.http - INFO - Making GET request to /api/v1/services/result/15\n",
      "2025-02-03 11:52:48,545 - breact_sdk.http - INFO - Making GET request to /api/v1/services/result/15\n",
      "2025-02-03 11:52:49,584 - breact_sdk.http - INFO - Making GET request to /api/v1/services/result/15\n"
     ]
    },
    {
     "name": "stdout",
     "output_type": "stream",
     "text": [
      "Summary:\n",
      "status='success' result=None error=None summary='Artificial Intelligence (AI) has significantly impacted multiple industries, including healthcare and finance, through enhanced data processing and pattern recognition. Key AI components, such as machine learning, natural language processing, and computer vision, have enabled improved automation and decision-making. Machine learning algorithms analyze large data sets to make predictions, while natural language processing allows computers to understand and generate human-like text. Computer vision systems excel in recognizing objects and faces with high precision.' metadata={'model': 'mistral-small', 'created_at': '2025-02-03T11:52:48.931144', 'original_length': 60, 'summary_length': 72, 'processing_time': '2025-02-03T11:52:48.931144', 'instance_id': 2621024405136, 'usage': {'prompt_tokens': 183, 'total_tokens': 277, 'completion_tokens': 94}}\n"
     ]
    }
   ],
   "source": [
    "sample_text = \"\"\"\n",
    "Artificial Intelligence (AI) has transformed various industries, from healthcare to finance.\n",
    "Machine learning algorithms can now process vast amounts of data to identify patterns and make predictions.\n",
    "Natural Language Processing has enabled computers to understand and generate human-like text.\n",
    "Computer Vision systems can recognize objects and faces with remarkable accuracy.\n",
    "These advancements have led to improved automation and decision-making capabilities.\n",
    "\"\"\"\n",
    "\n",
    "result = await client.ai_summarize(\n",
    "    text=sample_text,\n",
    "    summary_type=\"brief\",\n",
    "    model_id=\"mistral-small\",\n",
    "    options={\n",
    "        \"temperature\": 0.3,\n",
    "        \"max_tokens\": 500\n",
    "    }\n",
    ")\n",
    "\n",
    "if result.status == \"completed\" and result.result:\n",
    "    print(\"Summary:\")\n",
    "    print(result.result)\n",
    "else:\n",
    "    print(f\"Error: {result.error or 'Unknown error'}\")"
   ]
  },
  {
   "cell_type": "markdown",
   "metadata": {},
   "source": [
    "## Email Generator Example – Analyzing and Responding to an Email Thread\n",
    "\n",
    "This section demonstrates how to analyze an email thread for sentiment, key points, action items, and response urgency. Based on the analysis, a professional email response is generated using the BReact SDK."
   ]
  },
  {
   "cell_type": "code",
   "execution_count": 6,
   "metadata": {},
   "outputs": [
    {
     "name": "stderr",
     "output_type": "stream",
     "text": [
      "2025-02-03 11:52:49,645 - breact_sdk - INFO - Analyzing email thread...\n",
      "2025-02-03 11:52:49,646 - breact_sdk.http - INFO - Executing POST request to /api/v1/services/email_response/analyze_thread with polling\n",
      "2025-02-03 11:52:49,646 - breact_sdk.http - INFO - Making POST request to /api/v1/services/email_response/analyze_thread\n",
      "2025-02-03 11:52:49,684 - breact_sdk.http - INFO - Making GET request to /api/v1/services/result/16\n",
      "2025-02-03 11:52:50,725 - breact_sdk.http - INFO - Making GET request to /api/v1/services/result/16\n",
      "2025-02-03 11:52:51,765 - breact_sdk.http - INFO - Making GET request to /api/v1/services/result/16\n",
      "2025-02-03 11:52:52,815 - breact_sdk.http - INFO - Making GET request to /api/v1/services/result/16\n",
      "2025-02-03 11:52:52,858 - breact_sdk - INFO - Generating email response...\n",
      "2025-02-03 11:52:52,859 - breact_sdk.http - INFO - Executing POST request to /api/v1/services/email_response/generate_response with polling\n",
      "2025-02-03 11:52:52,859 - breact_sdk.http - INFO - Making POST request to /api/v1/services/email_response/generate_response\n",
      "2025-02-03 11:52:52,892 - breact_sdk.http - INFO - Making GET request to /api/v1/services/result/17\n"
     ]
    },
    {
     "name": "stdout",
     "output_type": "stream",
     "text": [
      "Thread Analysis Results:\n",
      "\n",
      "Sentiment: neutral\n",
      "\n",
      "Main Points Discussed:\n",
      "- Project timeline question\n",
      "- Concern about delay in database implementation phase\n",
      "- Request for update on completion of database implementation phase\n",
      "- Potential impact of delay on final delivery date\n",
      "\n",
      "Action Items:\n",
      "- Provide update on database implementation phase timeline (Urgency: high)\n",
      "- Evaluate impact of delay on final delivery date (Urgency: high)\n",
      "\n",
      "Response Urgency: high\n"
     ]
    },
    {
     "name": "stderr",
     "output_type": "stream",
     "text": [
      "2025-02-03 11:52:53,931 - breact_sdk.http - INFO - Making GET request to /api/v1/services/result/17\n",
      "2025-02-03 11:52:54,971 - breact_sdk.http - INFO - Making GET request to /api/v1/services/result/17\n",
      "2025-02-03 11:52:56,021 - breact_sdk.http - INFO - Making GET request to /api/v1/services/result/17\n",
      "2025-02-03 11:52:57,075 - breact_sdk.http - INFO - Making GET request to /api/v1/services/result/17\n"
     ]
    },
    {
     "name": "stdout",
     "output_type": "stream",
     "text": [
      "\n",
      "Generated Response:\n",
      "Subject: Re: Project Timeline Question\n",
      "\n",
      "Content:\n",
      "{\n",
      "  \"subject\": \"Response to Project Timeline Question\",\n",
      "  \"content\": \"Dear John,\\n\\nI hope this message finds you well. I would be happy to provide an update regarding the timeline for our current project.\\n\\nWe understand that the database implementation phase is taking longer than initially anticipated. Our team is working diligently to resolve any issues and ensure a smooth and efficient implementation.\\n\\nAt this time, we expect the database implementation to be completed by 2024-03-27T10:00:00Z. Please note that this timeline is subject to change as we continue to work through any unforeseen challenges.\\n\\nRegarding the final delivery date, we anticipate a slight delay due to the extended database implementation phase. Our current estimate for final delivery is 2024-04-10T10:00:00Z. We will continue to monitor the situation and provide updates as necessary.\\n\\nThank you for your understanding and patience. If you have any further questions or concerns, please do not hesitate to contact us.\\n\\nBest regards,\\n[Your Name]\\nProject Support Team\",\n",
      "  \"tone\": \"formal\",\n",
      "  \"key_points_addressed\": [\n",
      "    \"address timeline concerns\",\n",
      "    \"explain database implementation status\",\n",
      "    \"discuss impact on final delivery\"\n",
      "  ]\n",
      "}\n",
      "\n",
      "Best regards,\n",
      "Support Team\n"
     ]
    }
   ],
   "source": [
    "# First, let's analyze the email thread\n",
    "analysis_result = await client.analyze_email_thread(\n",
    "    email_thread=[{\n",
    "        \"sender\": \"client@example.com\",\n",
    "        \"recipient\": \"support@company.com\",\n",
    "        \"subject\": \"Project Timeline Question\",\n",
    "        \"content\": \"\"\"\n",
    "        Hi Support Team,\n",
    "        \n",
    "        I'm wondering about the timeline for our current project. We seem to be running behind\n",
    "        schedule on the database implementation phase. Could you provide an update on when\n",
    "        we can expect this to be completed?\n",
    "        \n",
    "        Also, will this delay affect our final delivery date?\n",
    "        \n",
    "        Thanks,\n",
    "        John\n",
    "        \"\"\",\n",
    "        \"timestamp\": \"2024-03-20T10:00:00Z\"\n",
    "    }],\n",
    "    analysis_type=[\"sentiment\", \"key_points\", \"action_items\", \"response_urgency\"],\n",
    "    model_id=\"mistral-small\"\n",
    ")\n",
    "\n",
    "if analysis_result.status == \"completed\" and analysis_result.result:\n",
    "    analysis = analysis_result.result.analysis  # Get the analysis dictionary\n",
    "    print(\"Thread Analysis Results:\")\n",
    "    print(f\"\\nSentiment: {analysis['overall_sentiment']}\")\n",
    "    print(\"\\nMain Points Discussed:\")\n",
    "    for point in analysis['main_points_discussed']:\n",
    "        print(f\"- {point}\")\n",
    "    print(\"\\nAction Items:\")\n",
    "    for item in analysis['action_items']:\n",
    "        print(f\"- {item['task']} (Urgency: {item['urgency']})\")\n",
    "    print(f\"\\nResponse Urgency: {analysis['response_urgency']}\")\n",
    "\n",
    "    # Now generate a response based on the analysis\n",
    "    response_result = await client.generate_email_response(\n",
    "        email_thread=[{\n",
    "            \"sender\": \"client@example.com\",\n",
    "            \"recipient\": \"support@company.com\",\n",
    "            \"subject\": \"Project Timeline Question\",\n",
    "            \"content\": \"\"\"\n",
    "            Hi Support Team,\n",
    "            \n",
    "            I'm wondering about the timeline for our current project. We seem to be running behind\n",
    "            schedule on the database implementation phase. Could you provide an update on when\n",
    "            we can expect this to be completed?\n",
    "            \n",
    "            Also, will this delay affect our final delivery date?\n",
    "            \n",
    "            Thanks,\n",
    "            John\n",
    "            \"\"\",\n",
    "            \"timestamp\": \"2024-03-20T10:00:00Z\"\n",
    "        }],\n",
    "        tone=\"professional\",\n",
    "        style_guide={\n",
    "            \"language\": \"en\",\n",
    "            \"max_length\": 200,\n",
    "            \"signature\": \"Best regards,\\nSupport Team\",\n",
    "            \"greeting_style\": \"formal\"\n",
    "        },\n",
    "        key_points=[\n",
    "            \"Address timeline concerns\",\n",
    "            \"Explain database implementation status\",\n",
    "            \"Discuss impact on final delivery\"\n",
    "        ],\n",
    "        model_id=\"mistral-small\",\n",
    "        options={\n",
    "            \"temperature\": 0.3,\n",
    "            \"max_tokens\": 1000\n",
    "        }\n",
    "    )\n",
    "    \n",
    "    if response_result.status == \"completed\" and response_result.result:\n",
    "        response = response_result.result.response  # Get the response dictionary\n",
    "        print(\"\\nGenerated Response:\")\n",
    "        print(f\"Subject: {response['subject']}\")\n",
    "        print(\"\\nContent:\")\n",
    "        print(response['content'])\n",
    "        \n",
    "        if response['suggestions']:\n",
    "            print(\"\\nAlternative Suggestions:\")\n",
    "            for suggestion in response['suggestions']:\n",
    "                print(f\"- {suggestion}\")\n",
    "    else:\n",
    "        print(f\"\\nError generating response: {response_result.error or 'Unknown error'}\")\n",
    "else:\n",
    "    print(f\"\\nError analyzing thread: {analysis_result.error or 'Unknown error'}\")"
   ]
  },
  {
   "cell_type": "markdown",
   "metadata": {},
   "source": [
    "## Information Tracker – Extracting Structured Information from Unstructured Text\n",
    "\n",
    "Here we provide a JSON schema to extract structured medical information from a free-text note. The `extract_information` method uses the schema and additional context (`current_info`) to produce a structured analysis."
   ]
  },
  {
   "cell_type": "code",
   "execution_count": 8,
   "metadata": {},
   "outputs": [
    {
     "name": "stderr",
     "output_type": "stream",
     "text": [
      "2025-02-03 11:52:57,130 - breact_sdk.http - INFO - Executing POST request to /api/v1/services/information_tracker/extract_information with polling\n",
      "2025-02-03 11:52:57,130 - breact_sdk.http - INFO - Making POST request to /api/v1/services/information_tracker/extract_information\n",
      "2025-02-03 11:52:57,166 - breact_sdk.http - INFO - Making GET request to /api/v1/services/result/18\n",
      "2025-02-03 11:52:58,348 - breact_sdk.http - INFO - Making GET request to /api/v1/services/result/18\n",
      "2025-02-03 11:52:59,401 - breact_sdk.http - INFO - Making GET request to /api/v1/services/result/18\n",
      "2025-02-03 11:53:00,438 - breact_sdk.http - INFO - Making GET request to /api/v1/services/result/18\n"
     ]
    },
    {
     "name": "stdout",
     "output_type": "stream",
     "text": [
      "Analysis Results:\n",
      "\n",
      "Primary Symptom: headache\n",
      "Duration: 3 days\n",
      "Pain Level: 8/10\n",
      "\n",
      "Associated Symptoms:\n",
      "- nausea\n",
      "\n",
      "Aggravating Factors:\n",
      "- physical activity\n",
      "\n",
      "Family History:\n",
      "Present: True\n",
      "Details: mother had similar symptoms\n"
     ]
    }
   ],
   "source": [
    "# Example of using the Information Tracker service\n",
    "medical_note = \"\"\"\n",
    "Patient reports severe headache lasting for 3 days, accompanied by nausea and sensitivity to light. \n",
    "Pain level is described as 8/10. Symptoms worsen with physical activity. \n",
    "No prior history of migraines, but family history shows mother had similar symptoms.\n",
    "\"\"\"\n",
    "\n",
    "# Define the schema for medical symptom extraction\n",
    "schema = {\n",
    "    \"type\": \"object\",\n",
    "    \"properties\": {\n",
    "        \"primary_symptom\": {\n",
    "            \"type\": \"string\",\n",
    "            \"enum\": [\"headache\", \"nausea\", \"dizziness\", \"fatigue\", \"pain\"]\n",
    "        },\n",
    "        \"duration\": {\n",
    "            \"type\": \"string\"\n",
    "        },\n",
    "        \"pain_level\": {\n",
    "            \"type\": \"string\"\n",
    "        },\n",
    "        \"associated_symptoms\": {\n",
    "            \"type\": \"array\",\n",
    "            \"items\": {\n",
    "                \"type\": \"string\"\n",
    "            }\n",
    "        },\n",
    "        \"aggravating_factors\": {\n",
    "            \"type\": \"array\",\n",
    "            \"items\": {\n",
    "                \"type\": \"string\"\n",
    "            }\n",
    "        },\n",
    "        \"family_history\": {\n",
    "            \"type\": \"object\",\n",
    "            \"properties\": {\n",
    "                \"present\": {\n",
    "                    \"type\": \"boolean\"\n",
    "                },\n",
    "                \"details\": {\n",
    "                    \"type\": \"string\"\n",
    "                }\n",
    "            },\n",
    "            \"required\": [\"present\"]\n",
    "        }\n",
    "    },\n",
    "    \"required\": [\"primary_symptom\", \"duration\", \"pain_level\"]\n",
    "}\n",
    "\n",
    "# Extract information using the new method\n",
    "result = await client.extract_information(\n",
    "    text=medical_note,\n",
    "    schema=schema,\n",
    "    update_type=\"medical_symptoms\",\n",
    "    current_info={\n",
    "        \"previous_symptoms\": [\"mild headache\"]\n",
    "    }\n",
    ")\n",
    "\n",
    "if result.status == \"completed\":\n",
    "    if result.result.status == \"error\":\n",
    "        print(f\"Error extracting information: {result.result.error}\")\n",
    "    else:\n",
    "        print(\"Analysis Results:\")\n",
    "        analysis = result.result.result\n",
    "        \n",
    "        print(f\"\\nPrimary Symptom: {analysis['primary_symptom']}\")\n",
    "        print(f\"Duration: {analysis['duration']}\")\n",
    "        print(f\"Pain Level: {analysis['pain_level']}\")\n",
    "        \n",
    "        if 'associated_symptoms' in analysis:\n",
    "            print(\"\\nAssociated Symptoms:\")\n",
    "            for symptom in analysis['associated_symptoms']:\n",
    "                print(f\"- {symptom}\")\n",
    "        \n",
    "        if 'aggravating_factors' in analysis:\n",
    "            print(\"\\nAggravating Factors:\")\n",
    "            for factor in analysis['aggravating_factors']:\n",
    "                print(f\"- {factor}\")\n",
    "        \n",
    "        if 'family_history' in analysis:\n",
    "            print(\"\\nFamily History:\")\n",
    "            print(f\"Present: {analysis['family_history']['present']}\")\n",
    "            if 'details' in analysis['family_history']:\n",
    "                print(f\"Details: {analysis['family_history']['details']}\")\n",
    "else:\n",
    "    print(f\"Error: {result.error or 'Unknown error'}\")"
   ]
  },
  {
   "cell_type": "markdown",
   "metadata": {},
   "source": [
    "## Using Generic Services – Invoking Custom Service Endpoints\n",
    "\n",
    "This section demonstrates how to call any available service endpoint using the `execute_service` method. This method allows flexibility to interact with services that may not have dedicated SDK implementations."
   ]
  },
  {
   "cell_type": "code",
   "execution_count": 10,
   "metadata": {},
   "outputs": [
    {
     "name": "stderr",
     "output_type": "stream",
     "text": [
      "2025-02-03 11:53:00,495 - breact_sdk.http - INFO - Executing POST request to /api/v1/services/webscraper/scrape with polling\n",
      "2025-02-03 11:53:00,496 - breact_sdk.http - INFO - Making POST request to /api/v1/services/webscraper/scrape\n",
      "2025-02-03 11:53:00,672 - breact_sdk.http - INFO - Making GET request to /api/v1/services/result/19\n",
      "2025-02-03 11:53:01,716 - breact_sdk.http - INFO - Making GET request to /api/v1/services/result/19\n",
      "2025-02-03 11:53:03,758 - breact_sdk.http - INFO - Making GET request to /api/v1/services/result/19\n"
     ]
    },
    {
     "name": "stdout",
     "output_type": "stream",
     "text": [
      "Status: completed\n",
      "\n",
      "Result:\n",
      "status='completed' result=ServiceResult(status='success', result={'main_article_content': 'This domain is for use in illustrative examples in documents. You may use this domain in literature without prior coordination or asking for permission.'}, error=None, metadata={'url': 'https://example.com', 'created_at': '2025-02-03T11:53:00.671456', 'processing_time': 2.027872, 'model': 'gpt-4o'}) error=None message=None service='webscraper' endpoint='scrape' created_at=datetime.datetime(2025, 2, 3, 11, 53, 0, 661249) process_info=None\n"
     ]
    }
   ],
   "source": [
    "# Test webscraper service using the correct endpoint name\n",
    "result = await client.execute_service(\n",
    "    service_id=\"webscraper\",\n",
    "    endpoint=\"scrape\",  # Changed from scrape_with_llm to scrape\n",
    "    params={\n",
    "        \"url\": \"https://example.com\",\n",
    "        \"extraction_description\": \"Extract the main article content\",\n",
    "        \"model_id\": \"gpt-4o\",  # optional\n",
    "        \"options\": {  # optional\n",
    "            \"wait_until\": \"networkidle\",\n",
    "            \"timeout\": 30,\n",
    "            \"text_mode\": True\n",
    "        }\n",
    "    }\n",
    ")\n",
    "\n",
    "print(f\"Status: {result.status if hasattr(result, 'status') else 'N/A'}\")\n",
    "print(\"\\nResult:\")\n",
    "print(result)"
   ]
  },
  {
   "cell_type": "markdown",
   "metadata": {},
   "source": [
    "## Cleanup – Closing the Client\n",
    "\n",
    "It is important to close the client after use to free up resources and properly terminate connections."
   ]
  },
  {
   "cell_type": "code",
   "execution_count": 12,
   "metadata": {},
   "outputs": [
    {
     "name": "stderr",
     "output_type": "stream",
     "text": [
      "2025-02-03 11:53:03,807 - breact_sdk - INFO - Closing client and cleaning up resources...\n",
      "2025-02-03 11:53:03,807 - breact_sdk.http - INFO - Closing HTTP client\n",
      "2025-02-03 11:53:03,808 - breact_sdk - INFO - Client closed successfully\n"
     ]
    },
    {
     "name": "stdout",
     "output_type": "stream",
     "text": [
      "Client closed successfully!\n"
     ]
    }
   ],
   "source": [
    "await client.close()\n",
    "print(\"Client closed successfully!\")"
   ]
  }
 ],
 "metadata": {
  "kernelspec": {
   "display_name": "Python 3 (ipykernel)",
   "language": "python",
   "name": "python3"
  },
  "language_info": {
   "codemirror_mode": {
    "name": "ipython",
    "version": 3
   },
   "file_extension": ".py",
   "mimetype": "text/x-python",
   "name": "python",
   "nbconvert_exporter": "python",
   "pygments_lexer": "ipython3",
   "version": "3.11.7"
  }
 },
 "nbformat": 4,
 "nbformat_minor": 4
}
